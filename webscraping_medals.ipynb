{
 "cells": [
  {
   "cell_type": "code",
   "execution_count": 1,
   "id": "633fe909",
   "metadata": {
    "tags": []
   },
   "outputs": [],
   "source": [
    "import pandas as pd\n",
    "import requests\n",
    "from bs4 import BeautifulSoup\n",
    "import matplotlib.pyplot as plt\n",
    "import matplotlib as mpl\n",
    "mpl.style.use('ggplot')\n",
    "%matplotlib inline"
   ]
  },
  {
   "cell_type": "code",
   "execution_count": 2,
   "id": "4506561a",
   "metadata": {
    "tags": []
   },
   "outputs": [],
   "source": [
    "# Retirar informações da página\n",
    "url = \"https://en.wikipedia.org/wiki/All-time_Olympic_Games_medal_table\"\n",
    "page = requests.get(url).text\n",
    "soup = BeautifulSoup(page)\n",
    "\n",
    "lista_geral = []\n",
    "body = soup.find_all('tbody')[1]\n",
    "for row in body.find_all('td'):\n",
    "    row = str(row.text)\n",
    "    row_clean = row.strip('\\xa0').strip('\\n')\n",
    "    lista_geral.append(row_clean)"
   ]
  },
  {
   "cell_type": "code",
   "execution_count": 3,
   "id": "443f4eb2",
   "metadata": {
    "tags": []
   },
   "outputs": [],
   "source": [
    "# Criar listas de cada coluna (país, ouro, prata, etc)\n",
    "lista_paises = lista_geral[::16]\n",
    "lista_ouro = lista_geral[2::16]\n",
    "lista_prata = lista_geral[3::16]\n",
    "lista_bronze = lista_geral[4::16]\n",
    "lista_total = lista_geral[5::16]\n",
    "\n",
    "# Limpar nomes de países\n",
    "lista_paises_limpa = []\n",
    "for pais in lista_paises:\n",
    "    inicio = ''\n",
    "    index = 0\n",
    "    tamanho = len(pais)\n",
    "    for pos, letra in enumerate(pais):\n",
    "        if letra == '(':\n",
    "            inicio = pos\n",
    "            index += (tamanho - inicio) * (-1)\n",
    "        palavra_limpa = pais[0:index]\n",
    "        novo_pais = palavra_limpa.strip('\\xa0')\n",
    "    lista_paises_limpa.append(novo_pais)\n",
    "lista_paises_limpa\n",
    "\n",
    "# Transformar 'str' em 'int' nas listas de medalhas\n",
    "lista_ouro_int = []\n",
    "for mudar in lista_ouro:\n",
    "    mudar = mudar.replace(',','')\n",
    "    mudar = int(mudar)\n",
    "    lista_ouro_int.append(mudar)\n",
    "\n",
    "lista_prata_int = []\n",
    "for mudar in lista_prata:\n",
    "    mudar = mudar.replace(',','')\n",
    "    mudar = int(mudar)\n",
    "    lista_prata_int.append(mudar)\n",
    "\n",
    "lista_bronze_int = []\n",
    "for mudar in lista_bronze:\n",
    "    mudar = mudar.replace(',','')\n",
    "    mudar = int(mudar)\n",
    "    lista_bronze_int.append(mudar)\n",
    "\n",
    "lista_total_int = []\n",
    "for mudar in lista_total:\n",
    "    mudar = mudar.replace(',','')\n",
    "    mudar = int(mudar)\n",
    "    lista_total_int.append(mudar)"
   ]
  },
  {
   "cell_type": "code",
   "execution_count": 4,
   "id": "4cf39c4c",
   "metadata": {
    "tags": []
   },
   "outputs": [
    {
     "data": {
      "text/html": [
       "<div>\n",
       "<style scoped>\n",
       "    .dataframe tbody tr th:only-of-type {\n",
       "        vertical-align: middle;\n",
       "    }\n",
       "\n",
       "    .dataframe tbody tr th {\n",
       "        vertical-align: top;\n",
       "    }\n",
       "\n",
       "    .dataframe thead th {\n",
       "        text-align: right;\n",
       "    }\n",
       "</style>\n",
       "<table border=\"1\" class=\"dataframe\">\n",
       "  <thead>\n",
       "    <tr style=\"text-align: right;\">\n",
       "      <th></th>\n",
       "      <th>Ouro</th>\n",
       "      <th>Prata</th>\n",
       "      <th>Bronze</th>\n",
       "      <th>Total</th>\n",
       "    </tr>\n",
       "    <tr>\n",
       "      <th>País</th>\n",
       "      <th></th>\n",
       "      <th></th>\n",
       "      <th></th>\n",
       "      <th></th>\n",
       "    </tr>\n",
       "  </thead>\n",
       "  <tbody>\n",
       "    <tr>\n",
       "      <th>Afghanistan</th>\n",
       "      <td>0</td>\n",
       "      <td>0</td>\n",
       "      <td>2</td>\n",
       "      <td>2</td>\n",
       "    </tr>\n",
       "    <tr>\n",
       "      <th>Algeria</th>\n",
       "      <td>5</td>\n",
       "      <td>4</td>\n",
       "      <td>8</td>\n",
       "      <td>17</td>\n",
       "    </tr>\n",
       "    <tr>\n",
       "      <th>Argentina</th>\n",
       "      <td>21</td>\n",
       "      <td>26</td>\n",
       "      <td>30</td>\n",
       "      <td>77</td>\n",
       "    </tr>\n",
       "    <tr>\n",
       "      <th>Armenia</th>\n",
       "      <td>2</td>\n",
       "      <td>8</td>\n",
       "      <td>8</td>\n",
       "      <td>18</td>\n",
       "    </tr>\n",
       "    <tr>\n",
       "      <th>Australasia</th>\n",
       "      <td>3</td>\n",
       "      <td>4</td>\n",
       "      <td>5</td>\n",
       "      <td>12</td>\n",
       "    </tr>\n",
       "    <tr>\n",
       "      <th>...</th>\n",
       "      <td>...</td>\n",
       "      <td>...</td>\n",
       "      <td>...</td>\n",
       "      <td>...</td>\n",
       "    </tr>\n",
       "    <tr>\n",
       "      <th>Zambia</th>\n",
       "      <td>0</td>\n",
       "      <td>1</td>\n",
       "      <td>1</td>\n",
       "      <td>2</td>\n",
       "    </tr>\n",
       "    <tr>\n",
       "      <th>Zimbabwe</th>\n",
       "      <td>3</td>\n",
       "      <td>4</td>\n",
       "      <td>1</td>\n",
       "      <td>8</td>\n",
       "    </tr>\n",
       "    <tr>\n",
       "      <th>Independent Olympic Athletes</th>\n",
       "      <td>1</td>\n",
       "      <td>0</td>\n",
       "      <td>1</td>\n",
       "      <td>2</td>\n",
       "    </tr>\n",
       "    <tr>\n",
       "      <th>Independent Olympic Participants</th>\n",
       "      <td>0</td>\n",
       "      <td>1</td>\n",
       "      <td>2</td>\n",
       "      <td>3</td>\n",
       "    </tr>\n",
       "    <tr>\n",
       "      <th>Mixed team</th>\n",
       "      <td>11</td>\n",
       "      <td>6</td>\n",
       "      <td>8</td>\n",
       "      <td>25</td>\n",
       "    </tr>\n",
       "  </tbody>\n",
       "</table>\n",
       "<p>156 rows × 4 columns</p>\n",
       "</div>"
      ],
      "text/plain": [
       "                                 Ouro Prata Bronze Total\n",
       "País                                                    \n",
       "Afghanistan                         0     0      2     2\n",
       "Algeria                             5     4      8    17\n",
       "Argentina                          21    26     30    77\n",
       "Armenia                             2     8      8    18\n",
       "Australasia                         3     4      5    12\n",
       "...                               ...   ...    ...   ...\n",
       "Zambia                              0     1      1     2\n",
       "Zimbabwe                            3     4      1     8\n",
       "Independent Olympic Athletes        1     0      1     2\n",
       "Independent Olympic Participants    0     1      2     3\n",
       "Mixed team                         11     6      8    25\n",
       "\n",
       "[156 rows x 4 columns]"
      ]
     },
     "execution_count": 4,
     "metadata": {},
     "output_type": "execute_result"
    }
   ],
   "source": [
    "# Juntar tudo numa lista de listas\n",
    "lista_rank = [lista_paises_limpa, lista_ouro_int, lista_prata_int, lista_bronze_int, lista_total_int]\n",
    "\n",
    "# Criar Data Frame\n",
    "rank_df = pd.DataFrame(lista_rank).transpose()\n",
    "rank_df.columns=['País', 'Ouro', 'Prata', 'Bronze', 'Total']\n",
    "\n",
    "# Mudar países de coluna para index\n",
    "rank_df.set_index('País', inplace=True)\n",
    "\n",
    "rank_df"
   ]
  },
  {
   "cell_type": "code",
   "execution_count": 9,
   "id": "bf198deb-2a4c-4909-8216-5e36154a26f6",
   "metadata": {
    "tags": []
   },
   "outputs": [
    {
     "name": "stdout",
     "output_type": "stream",
     "text": [
      "<class 'pandas.core.frame.DataFrame'>\n",
      "Index: 156 entries, Afghanistan to Mixed team\n",
      "Data columns (total 4 columns):\n",
      " #   Column  Non-Null Count  Dtype \n",
      "---  ------  --------------  ----- \n",
      " 0   Ouro    156 non-null    object\n",
      " 1   Prata   156 non-null    object\n",
      " 2   Bronze  156 non-null    object\n",
      " 3   Total   156 non-null    object\n",
      "dtypes: object(4)\n",
      "memory usage: 6.1+ KB\n"
     ]
    }
   ],
   "source": [
    "rank_df.info()"
   ]
  },
  {
   "cell_type": "code",
   "execution_count": 10,
   "id": "44c3a633-d278-4eaf-bf6a-ee791c499724",
   "metadata": {
    "tags": []
   },
   "outputs": [
    {
     "name": "stdout",
     "output_type": "stream",
     "text": [
      "<class 'pandas.core.frame.DataFrame'>\n",
      "Index: 156 entries, Afghanistan to Mixed team\n",
      "Data columns (total 4 columns):\n",
      " #   Column  Non-Null Count  Dtype\n",
      "---  ------  --------------  -----\n",
      " 0   Ouro    156 non-null    int32\n",
      " 1   Prata   156 non-null    int32\n",
      " 2   Bronze  156 non-null    int32\n",
      " 3   Total   156 non-null    int32\n",
      "dtypes: int32(4)\n",
      "memory usage: 3.7+ KB\n"
     ]
    }
   ],
   "source": [
    "rank_df = rank_df.astype('int')\n",
    "rank_df.info()"
   ]
  },
  {
   "cell_type": "code",
   "execution_count": 12,
   "id": "f986cdde",
   "metadata": {
    "tags": []
   },
   "outputs": [
    {
     "data": {
      "text/html": [
       "<div>\n",
       "<style scoped>\n",
       "    .dataframe tbody tr th:only-of-type {\n",
       "        vertical-align: middle;\n",
       "    }\n",
       "\n",
       "    .dataframe tbody tr th {\n",
       "        vertical-align: top;\n",
       "    }\n",
       "\n",
       "    .dataframe thead th {\n",
       "        text-align: right;\n",
       "    }\n",
       "</style>\n",
       "<table border=\"1\" class=\"dataframe\">\n",
       "  <thead>\n",
       "    <tr style=\"text-align: right;\">\n",
       "      <th></th>\n",
       "      <th>Ouro</th>\n",
       "      <th>Prata</th>\n",
       "      <th>Bronze</th>\n",
       "      <th>Total</th>\n",
       "    </tr>\n",
       "  </thead>\n",
       "  <tbody>\n",
       "    <tr>\n",
       "      <th>count</th>\n",
       "      <td>156.000000</td>\n",
       "      <td>156.000000</td>\n",
       "      <td>156.000000</td>\n",
       "      <td>156.000000</td>\n",
       "    </tr>\n",
       "    <tr>\n",
       "      <th>mean</th>\n",
       "      <td>35.000000</td>\n",
       "      <td>34.801282</td>\n",
       "      <td>37.769231</td>\n",
       "      <td>107.570513</td>\n",
       "    </tr>\n",
       "    <tr>\n",
       "      <th>std</th>\n",
       "      <td>102.473033</td>\n",
       "      <td>86.042557</td>\n",
       "      <td>83.159299</td>\n",
       "      <td>269.810378</td>\n",
       "    </tr>\n",
       "    <tr>\n",
       "      <th>min</th>\n",
       "      <td>0.000000</td>\n",
       "      <td>0.000000</td>\n",
       "      <td>0.000000</td>\n",
       "      <td>0.000000</td>\n",
       "    </tr>\n",
       "    <tr>\n",
       "      <th>25%</th>\n",
       "      <td>0.000000</td>\n",
       "      <td>1.000000</td>\n",
       "      <td>1.000000</td>\n",
       "      <td>3.000000</td>\n",
       "    </tr>\n",
       "    <tr>\n",
       "      <th>50%</th>\n",
       "      <td>3.000000</td>\n",
       "      <td>5.000000</td>\n",
       "      <td>6.000000</td>\n",
       "      <td>13.500000</td>\n",
       "    </tr>\n",
       "    <tr>\n",
       "      <th>75%</th>\n",
       "      <td>24.500000</td>\n",
       "      <td>29.250000</td>\n",
       "      <td>31.250000</td>\n",
       "      <td>85.750000</td>\n",
       "    </tr>\n",
       "    <tr>\n",
       "      <th>max</th>\n",
       "      <td>1061.000000</td>\n",
       "      <td>830.000000</td>\n",
       "      <td>738.000000</td>\n",
       "      <td>2629.000000</td>\n",
       "    </tr>\n",
       "  </tbody>\n",
       "</table>\n",
       "</div>"
      ],
      "text/plain": [
       "              Ouro       Prata      Bronze        Total\n",
       "count   156.000000  156.000000  156.000000   156.000000\n",
       "mean     35.000000   34.801282   37.769231   107.570513\n",
       "std     102.473033   86.042557   83.159299   269.810378\n",
       "min       0.000000    0.000000    0.000000     0.000000\n",
       "25%       0.000000    1.000000    1.000000     3.000000\n",
       "50%       3.000000    5.000000    6.000000    13.500000\n",
       "75%      24.500000   29.250000   31.250000    85.750000\n",
       "max    1061.000000  830.000000  738.000000  2629.000000"
      ]
     },
     "execution_count": 12,
     "metadata": {},
     "output_type": "execute_result"
    }
   ],
   "source": [
    "rank_df.describe()"
   ]
  },
  {
   "cell_type": "code",
   "execution_count": 13,
   "id": "c550b518",
   "metadata": {
    "tags": []
   },
   "outputs": [
    {
     "data": {
      "text/plain": [
       "Ouro      0\n",
       "Prata     0\n",
       "Bronze    0\n",
       "Total     0\n",
       "dtype: int64"
      ]
     },
     "execution_count": 13,
     "metadata": {},
     "output_type": "execute_result"
    }
   ],
   "source": [
    "rank_df.isnull().sum()"
   ]
  },
  {
   "cell_type": "code",
   "execution_count": 7,
   "id": "2a981a1c",
   "metadata": {
    "tags": []
   },
   "outputs": [
    {
     "name": "stdout",
     "output_type": "stream",
     "text": [
      "<class 'pandas.core.frame.DataFrame'>\n",
      "Index: 156 entries, Afghanistan to Mixed team\n",
      "Columns: 4 entries, Ouro to Total\n",
      "dtypes: object(4)\n",
      "memory usage: 6.1+ KB\n"
     ]
    }
   ],
   "source": [
    "rank_df.info(verbose=False)"
   ]
  },
  {
   "cell_type": "code",
   "execution_count": 14,
   "id": "e5a58f08",
   "metadata": {
    "tags": []
   },
   "outputs": [
    {
     "data": {
      "text/html": [
       "<div>\n",
       "<style scoped>\n",
       "    .dataframe tbody tr th:only-of-type {\n",
       "        vertical-align: middle;\n",
       "    }\n",
       "\n",
       "    .dataframe tbody tr th {\n",
       "        vertical-align: top;\n",
       "    }\n",
       "\n",
       "    .dataframe thead th {\n",
       "        text-align: right;\n",
       "    }\n",
       "</style>\n",
       "<table border=\"1\" class=\"dataframe\">\n",
       "  <thead>\n",
       "    <tr style=\"text-align: right;\">\n",
       "      <th></th>\n",
       "      <th>Ouro</th>\n",
       "      <th>Prata</th>\n",
       "      <th>Bronze</th>\n",
       "      <th>Total</th>\n",
       "    </tr>\n",
       "    <tr>\n",
       "      <th>País</th>\n",
       "      <th></th>\n",
       "      <th></th>\n",
       "      <th></th>\n",
       "      <th></th>\n",
       "    </tr>\n",
       "  </thead>\n",
       "  <tbody>\n",
       "    <tr>\n",
       "      <th>Sweden</th>\n",
       "      <td>147</td>\n",
       "      <td>177</td>\n",
       "      <td>179</td>\n",
       "      <td>503</td>\n",
       "    </tr>\n",
       "    <tr>\n",
       "      <th>Hungary</th>\n",
       "      <td>181</td>\n",
       "      <td>154</td>\n",
       "      <td>176</td>\n",
       "      <td>511</td>\n",
       "    </tr>\n",
       "    <tr>\n",
       "      <th>Australia</th>\n",
       "      <td>164</td>\n",
       "      <td>173</td>\n",
       "      <td>210</td>\n",
       "      <td>547</td>\n",
       "    </tr>\n",
       "    <tr>\n",
       "      <th>Italy</th>\n",
       "      <td>217</td>\n",
       "      <td>188</td>\n",
       "      <td>213</td>\n",
       "      <td>618</td>\n",
       "    </tr>\n",
       "    <tr>\n",
       "      <th>China</th>\n",
       "      <td>263</td>\n",
       "      <td>199</td>\n",
       "      <td>174</td>\n",
       "      <td>636</td>\n",
       "    </tr>\n",
       "    <tr>\n",
       "      <th>Germany</th>\n",
       "      <td>201</td>\n",
       "      <td>207</td>\n",
       "      <td>247</td>\n",
       "      <td>655</td>\n",
       "    </tr>\n",
       "    <tr>\n",
       "      <th>France</th>\n",
       "      <td>223</td>\n",
       "      <td>251</td>\n",
       "      <td>277</td>\n",
       "      <td>751</td>\n",
       "    </tr>\n",
       "    <tr>\n",
       "      <th>Great Britain</th>\n",
       "      <td>284</td>\n",
       "      <td>318</td>\n",
       "      <td>314</td>\n",
       "      <td>916</td>\n",
       "    </tr>\n",
       "    <tr>\n",
       "      <th>Soviet Union</th>\n",
       "      <td>395</td>\n",
       "      <td>319</td>\n",
       "      <td>296</td>\n",
       "      <td>1010</td>\n",
       "    </tr>\n",
       "    <tr>\n",
       "      <th>United States</th>\n",
       "      <td>1061</td>\n",
       "      <td>830</td>\n",
       "      <td>738</td>\n",
       "      <td>2629</td>\n",
       "    </tr>\n",
       "  </tbody>\n",
       "</table>\n",
       "</div>"
      ],
      "text/plain": [
       "               Ouro  Prata  Bronze  Total\n",
       "País                                     \n",
       "Sweden          147    177     179    503\n",
       "Hungary         181    154     176    511\n",
       "Australia       164    173     210    547\n",
       "Italy           217    188     213    618\n",
       "China           263    199     174    636\n",
       "Germany         201    207     247    655\n",
       "France          223    251     277    751\n",
       "Great Britain   284    318     314    916\n",
       "Soviet Union    395    319     296   1010\n",
       "United States  1061    830     738   2629"
      ]
     },
     "execution_count": 14,
     "metadata": {},
     "output_type": "execute_result"
    }
   ],
   "source": [
    "rank_df.sort_values(by=['Total'], axis=0, ascending=True, inplace=True)\n",
    "rank_df.tail(10)"
   ]
  },
  {
   "cell_type": "code",
   "execution_count": 16,
   "id": "57a9feef-2e8c-401f-a457-e6c17d8834f5",
   "metadata": {
    "tags": []
   },
   "outputs": [
    {
     "data": {
      "text/plain": [
       "dtype('int32')"
      ]
     },
     "execution_count": 16,
     "metadata": {},
     "output_type": "execute_result"
    }
   ],
   "source": [
    "# Criar novo DF contendo apenas 'Total' e os 10 maiores vencedores\n",
    "top_df = rank_df['Total'].tail(10)\n",
    "\n",
    "top_df.dtypes"
   ]
  },
  {
   "cell_type": "code",
   "execution_count": 17,
   "id": "d0d7263b-4ee4-43f7-b05f-f9145d252979",
   "metadata": {
    "tags": []
   },
   "outputs": [
    {
     "data": {
      "text/plain": [
       "count      10.000000\n",
       "mean      877.600000\n",
       "std       637.857908\n",
       "min       503.000000\n",
       "25%       564.750000\n",
       "50%       645.500000\n",
       "75%       874.750000\n",
       "max      2629.000000\n",
       "Name: Total, dtype: float64"
      ]
     },
     "execution_count": 17,
     "metadata": {},
     "output_type": "execute_result"
    }
   ],
   "source": [
    "top_df.describe()"
   ]
  },
  {
   "cell_type": "code",
   "execution_count": 18,
   "id": "812c2539",
   "metadata": {
    "tags": []
   },
   "outputs": [
    {
     "data": {
      "image/png": "[encoded data removed]",
      "text/plain": [
       "<Figure size 640x480 with 1 Axes>"
      ]
     },
     "metadata": {},
     "output_type": "display_data"
    }
   ],
   "source": [
    "# Plotar bar chart de 'top_df'\n",
    "top_df.plot(kind='barh', color='steelblue', edgecolor='blue')\n",
    "\n",
    "plt.title('Maiores Vencedores das Olimpíadas de Verão por Total de Medalhas')\n",
    "plt.ylabel('PAÍS')\n",
    "plt.xlabel('MEDALHAS')\n",
    "\n",
    "for index, value in enumerate(top_df):\n",
    "    plt.annotate(value, xy=(value - 230, index - 0.15), color='white')"
   ]
  },
  {
   "cell_type": "code",
   "execution_count": 12,
   "id": "bcef22eb",
   "metadata": {
    "tags": []
   },
   "outputs": [
    {
     "data": {
      "text/html": [
       "<div>\n",
       "<style scoped>\n",
       "    .dataframe tbody tr th:only-of-type {\n",
       "        vertical-align: middle;\n",
       "    }\n",
       "\n",
       "    .dataframe tbody tr th {\n",
       "        vertical-align: top;\n",
       "    }\n",
       "\n",
       "    .dataframe thead th {\n",
       "        text-align: right;\n",
       "    }\n",
       "</style>\n",
       "<table border=\"1\" class=\"dataframe\">\n",
       "  <thead>\n",
       "    <tr style=\"text-align: right;\">\n",
       "      <th></th>\n",
       "      <th>Ouro</th>\n",
       "      <th>Prata</th>\n",
       "      <th>Bronze</th>\n",
       "      <th>Total</th>\n",
       "    </tr>\n",
       "    <tr>\n",
       "      <th>País</th>\n",
       "      <th></th>\n",
       "      <th></th>\n",
       "      <th></th>\n",
       "      <th></th>\n",
       "    </tr>\n",
       "  </thead>\n",
       "  <tbody>\n",
       "    <tr>\n",
       "      <th>Brazil</th>\n",
       "      <td>37</td>\n",
       "      <td>42</td>\n",
       "      <td>71</td>\n",
       "      <td>150</td>\n",
       "    </tr>\n",
       "  </tbody>\n",
       "</table>\n",
       "</div>"
      ],
      "text/plain": [
       "       Ouro Prata Bronze Total\n",
       "País                          \n",
       "Brazil   37    42     71   150"
      ]
     },
     "execution_count": 12,
     "metadata": {},
     "output_type": "execute_result"
    }
   ],
   "source": [
    "rank_df.loc[['Brazil']]"
   ]
  },
  {
   "cell_type": "code",
   "execution_count": 13,
   "id": "9e3329bb",
   "metadata": {
    "tags": []
   },
   "outputs": [
    {
     "data": {
      "text/html": [
       "<div>\n",
       "<style scoped>\n",
       "    .dataframe tbody tr th:only-of-type {\n",
       "        vertical-align: middle;\n",
       "    }\n",
       "\n",
       "    .dataframe tbody tr th {\n",
       "        vertical-align: top;\n",
       "    }\n",
       "\n",
       "    .dataframe thead th {\n",
       "        text-align: right;\n",
       "    }\n",
       "</style>\n",
       "<table border=\"1\" class=\"dataframe\">\n",
       "  <thead>\n",
       "    <tr style=\"text-align: right;\">\n",
       "      <th></th>\n",
       "      <th>Ouro</th>\n",
       "      <th>Prata</th>\n",
       "      <th>Bronze</th>\n",
       "      <th>Total</th>\n",
       "    </tr>\n",
       "    <tr>\n",
       "      <th>País</th>\n",
       "      <th></th>\n",
       "      <th></th>\n",
       "      <th></th>\n",
       "      <th></th>\n",
       "    </tr>\n",
       "  </thead>\n",
       "  <tbody>\n",
       "    <tr>\n",
       "      <th>New Zealand</th>\n",
       "      <td>53</td>\n",
       "      <td>33</td>\n",
       "      <td>51</td>\n",
       "      <td>137</td>\n",
       "    </tr>\n",
       "    <tr>\n",
       "      <th>Ukraine</th>\n",
       "      <td>35</td>\n",
       "      <td>36</td>\n",
       "      <td>68</td>\n",
       "      <td>139</td>\n",
       "    </tr>\n",
       "    <tr>\n",
       "      <th>Czechoslovakia</th>\n",
       "      <td>49</td>\n",
       "      <td>49</td>\n",
       "      <td>45</td>\n",
       "      <td>143</td>\n",
       "    </tr>\n",
       "    <tr>\n",
       "      <th>Brazil</th>\n",
       "      <td>37</td>\n",
       "      <td>42</td>\n",
       "      <td>71</td>\n",
       "      <td>150</td>\n",
       "    </tr>\n",
       "    <tr>\n",
       "      <th>Belgium</th>\n",
       "      <td>44</td>\n",
       "      <td>56</td>\n",
       "      <td>57</td>\n",
       "      <td>157</td>\n",
       "    </tr>\n",
       "    <tr>\n",
       "      <th>Norway</th>\n",
       "      <td>61</td>\n",
       "      <td>52</td>\n",
       "      <td>50</td>\n",
       "      <td>163</td>\n",
       "    </tr>\n",
       "    <tr>\n",
       "      <th>Spain</th>\n",
       "      <td>48</td>\n",
       "      <td>72</td>\n",
       "      <td>49</td>\n",
       "      <td>169</td>\n",
       "    </tr>\n",
       "  </tbody>\n",
       "</table>\n",
       "</div>"
      ],
      "text/plain": [
       "               Ouro Prata Bronze Total\n",
       "País                                  \n",
       "New Zealand      53    33     51   137\n",
       "Ukraine          35    36     68   139\n",
       "Czechoslovakia   49    49     45   143\n",
       "Brazil           37    42     71   150\n",
       "Belgium          44    56     57   157\n",
       "Norway           61    52     50   163\n",
       "Spain            48    72     49   169"
      ]
     },
     "execution_count": 13,
     "metadata": {},
     "output_type": "execute_result"
    }
   ],
   "source": [
    "mids = rank_df.query('Total > 121 & Total < 200')\n",
    "mids"
   ]
  },
  {
   "cell_type": "code",
   "execution_count": 41,
   "id": "96c02a63",
   "metadata": {
    "tags": []
   },
   "outputs": [
    {
     "data": {
      "text/plain": [
       "<matplotlib.legend.Legend at 0x2742e475710>"
      ]
     },
     "execution_count": 41,
     "metadata": {},
     "output_type": "execute_result"
    },
    {
     "data": {
      "image/png": "[encoded data removed]",
      "text/plain": [
       "<Figure size 2000x1000 with 1 Axes>"
      ]
     },
     "metadata": {},
     "output_type": "display_data"
    }
   ],
   "source": [
    "mids.plot(kind='barh', color=['gold', 'silver', 'brown', 'steelblue'], figsize=(20, 10))\n",
    "plt.title('Brasil e Países Próximos no Ranking Total de Medalhas', size=20)\n",
    "plt.xticks(size=15)\n",
    "plt.xlabel('MEDALHAS')\n",
    "plt.yticks(size=17)\n",
    "plt.ylabel('PAÍSES')\n",
    "plt.legend(fontsize='x-large')"
   ]
  },
  {
   "cell_type": "code",
   "execution_count": 28,
   "id": "ba88737c",
   "metadata": {},
   "outputs": [],
   "source": [
    "# Juntar países da ex-USSR num novo DF\n",
    "ussr_df = rank_df.loc[['Belarus', 'Armenia', 'Azerbaijan', 'Kazakhstan', 'Estonia', 'Georgia', 'Latvia', 'Lithuania', \n",
    "                       'Moldova', 'Kyrgyzstan', 'Russia', 'Tajikistan', 'Turkmenistan', 'Ukraine', 'Uzbekistan']]\n",
    "\n",
    "# Alterar type para int\n",
    "ussr_df = ussr_df.astype('int')"
   ]
  },
  {
   "cell_type": "code",
   "execution_count": 29,
   "id": "9e482d34-0791-48b5-a1b6-f57ce82e37b4",
   "metadata": {
    "tags": []
   },
   "outputs": [
    {
     "data": {
      "text/html": [
       "<div>\n",
       "<style scoped>\n",
       "    .dataframe tbody tr th:only-of-type {\n",
       "        vertical-align: middle;\n",
       "    }\n",
       "\n",
       "    .dataframe tbody tr th {\n",
       "        vertical-align: top;\n",
       "    }\n",
       "\n",
       "    .dataframe thead th {\n",
       "        text-align: right;\n",
       "    }\n",
       "</style>\n",
       "<table border=\"1\" class=\"dataframe\">\n",
       "  <thead>\n",
       "    <tr style=\"text-align: right;\">\n",
       "      <th></th>\n",
       "      <th>Ouro</th>\n",
       "      <th>Prata</th>\n",
       "      <th>Bronze</th>\n",
       "      <th>Total</th>\n",
       "    </tr>\n",
       "    <tr>\n",
       "      <th>País</th>\n",
       "      <th></th>\n",
       "      <th></th>\n",
       "      <th></th>\n",
       "      <th></th>\n",
       "    </tr>\n",
       "  </thead>\n",
       "  <tbody>\n",
       "    <tr>\n",
       "      <th>Belarus</th>\n",
       "      <td>13</td>\n",
       "      <td>30</td>\n",
       "      <td>42</td>\n",
       "      <td>85</td>\n",
       "    </tr>\n",
       "    <tr>\n",
       "      <th>Armenia</th>\n",
       "      <td>2</td>\n",
       "      <td>8</td>\n",
       "      <td>8</td>\n",
       "      <td>18</td>\n",
       "    </tr>\n",
       "    <tr>\n",
       "      <th>Azerbaijan</th>\n",
       "      <td>7</td>\n",
       "      <td>14</td>\n",
       "      <td>28</td>\n",
       "      <td>49</td>\n",
       "    </tr>\n",
       "    <tr>\n",
       "      <th>Kazakhstan</th>\n",
       "      <td>14</td>\n",
       "      <td>22</td>\n",
       "      <td>35</td>\n",
       "      <td>71</td>\n",
       "    </tr>\n",
       "    <tr>\n",
       "      <th>Estonia</th>\n",
       "      <td>10</td>\n",
       "      <td>9</td>\n",
       "      <td>17</td>\n",
       "      <td>36</td>\n",
       "    </tr>\n",
       "    <tr>\n",
       "      <th>Georgia</th>\n",
       "      <td>10</td>\n",
       "      <td>12</td>\n",
       "      <td>18</td>\n",
       "      <td>40</td>\n",
       "    </tr>\n",
       "    <tr>\n",
       "      <th>Latvia</th>\n",
       "      <td>4</td>\n",
       "      <td>11</td>\n",
       "      <td>6</td>\n",
       "      <td>21</td>\n",
       "    </tr>\n",
       "    <tr>\n",
       "      <th>Lithuania</th>\n",
       "      <td>6</td>\n",
       "      <td>7</td>\n",
       "      <td>13</td>\n",
       "      <td>26</td>\n",
       "    </tr>\n",
       "    <tr>\n",
       "      <th>Moldova</th>\n",
       "      <td>0</td>\n",
       "      <td>2</td>\n",
       "      <td>4</td>\n",
       "      <td>6</td>\n",
       "    </tr>\n",
       "    <tr>\n",
       "      <th>Kyrgyzstan</th>\n",
       "      <td>0</td>\n",
       "      <td>3</td>\n",
       "      <td>4</td>\n",
       "      <td>7</td>\n",
       "    </tr>\n",
       "    <tr>\n",
       "      <th>Russia</th>\n",
       "      <td>147</td>\n",
       "      <td>126</td>\n",
       "      <td>151</td>\n",
       "      <td>424</td>\n",
       "    </tr>\n",
       "    <tr>\n",
       "      <th>Tajikistan</th>\n",
       "      <td>1</td>\n",
       "      <td>1</td>\n",
       "      <td>2</td>\n",
       "      <td>4</td>\n",
       "    </tr>\n",
       "    <tr>\n",
       "      <th>Turkmenistan</th>\n",
       "      <td>0</td>\n",
       "      <td>1</td>\n",
       "      <td>0</td>\n",
       "      <td>1</td>\n",
       "    </tr>\n",
       "    <tr>\n",
       "      <th>Ukraine</th>\n",
       "      <td>35</td>\n",
       "      <td>36</td>\n",
       "      <td>68</td>\n",
       "      <td>139</td>\n",
       "    </tr>\n",
       "    <tr>\n",
       "      <th>Uzbekistan</th>\n",
       "      <td>10</td>\n",
       "      <td>6</td>\n",
       "      <td>20</td>\n",
       "      <td>36</td>\n",
       "    </tr>\n",
       "  </tbody>\n",
       "</table>\n",
       "</div>"
      ],
      "text/plain": [
       "              Ouro  Prata  Bronze  Total\n",
       "País                                    \n",
       "Belarus         13     30      42     85\n",
       "Armenia          2      8       8     18\n",
       "Azerbaijan       7     14      28     49\n",
       "Kazakhstan      14     22      35     71\n",
       "Estonia         10      9      17     36\n",
       "Georgia         10     12      18     40\n",
       "Latvia           4     11       6     21\n",
       "Lithuania        6      7      13     26\n",
       "Moldova          0      2       4      6\n",
       "Kyrgyzstan       0      3       4      7\n",
       "Russia         147    126     151    424\n",
       "Tajikistan       1      1       2      4\n",
       "Turkmenistan     0      1       0      1\n",
       "Ukraine         35     36      68    139\n",
       "Uzbekistan      10      6      20     36"
      ]
     },
     "execution_count": 29,
     "metadata": {},
     "output_type": "execute_result"
    }
   ],
   "source": [
    "ussr_df"
   ]
  },
  {
   "cell_type": "code",
   "execution_count": 30,
   "id": "ca29b7c5-925e-4bb1-b5ab-fc1874ce5747",
   "metadata": {
    "tags": []
   },
   "outputs": [
    {
     "data": {
      "text/plain": [
       "Ouro      259\n",
       "Prata     288\n",
       "Bronze    416\n",
       "Total     963\n",
       "dtype: int64"
      ]
     },
     "execution_count": 30,
     "metadata": {},
     "output_type": "execute_result"
    }
   ],
   "source": [
    "# Criar uma 'series' com os totais de medalhas de ex-USSR\n",
    "total = ussr_df.sum()\n",
    "total"
   ]
  },
  {
   "cell_type": "code",
   "execution_count": 31,
   "id": "6255f93d-fe29-4d22-b47b-84da2c5ec1ec",
   "metadata": {
    "tags": []
   },
   "outputs": [
    {
     "data": {
      "text/html": [
       "<div>\n",
       "<style scoped>\n",
       "    .dataframe tbody tr th:only-of-type {\n",
       "        vertical-align: middle;\n",
       "    }\n",
       "\n",
       "    .dataframe tbody tr th {\n",
       "        vertical-align: top;\n",
       "    }\n",
       "\n",
       "    .dataframe thead th {\n",
       "        text-align: right;\n",
       "    }\n",
       "</style>\n",
       "<table border=\"1\" class=\"dataframe\">\n",
       "  <thead>\n",
       "    <tr style=\"text-align: right;\">\n",
       "      <th></th>\n",
       "      <th>Ouro</th>\n",
       "      <th>Prata</th>\n",
       "      <th>Bronze</th>\n",
       "      <th>Total</th>\n",
       "    </tr>\n",
       "    <tr>\n",
       "      <th>País</th>\n",
       "      <th></th>\n",
       "      <th></th>\n",
       "      <th></th>\n",
       "      <th></th>\n",
       "    </tr>\n",
       "  </thead>\n",
       "  <tbody>\n",
       "    <tr>\n",
       "      <th>Soviet Union</th>\n",
       "      <td>395</td>\n",
       "      <td>319</td>\n",
       "      <td>296</td>\n",
       "      <td>1010</td>\n",
       "    </tr>\n",
       "    <tr>\n",
       "      <th>15 Nations of the ex-USSR</th>\n",
       "      <td>259</td>\n",
       "      <td>288</td>\n",
       "      <td>416</td>\n",
       "      <td>963</td>\n",
       "    </tr>\n",
       "  </tbody>\n",
       "</table>\n",
       "</div>"
      ],
      "text/plain": [
       "                          Ouro Prata Bronze Total\n",
       "País                                             \n",
       "Soviet Union               395   319    296  1010\n",
       "15 Nations of the ex-USSR  259   288    416   963"
      ]
     },
     "execution_count": 31,
     "metadata": {},
     "output_type": "execute_result"
    }
   ],
   "source": [
    "# Novo DF 'comp_df' para juntar e comparar os 15 países a União Soviética\n",
    "comp_df = rank_df.loc[['Soviet Union']].transpose()\n",
    "\n",
    "comp_df['15 Nations of the ex-USSR'] = total\n",
    "\n",
    "comp_df.transpose()"
   ]
  },
  {
   "cell_type": "code",
   "execution_count": 40,
   "id": "9db86163-9102-4093-a4b6-ca156a64889e",
   "metadata": {
    "tags": []
   },
   "outputs": [
    {
     "data": {
      "text/plain": [
       "Text(0, 0.5, 'Número de Medalhas')"
      ]
     },
     "execution_count": 40,
     "metadata": {},
     "output_type": "execute_result"
    },
    {
     "data": {
      "image/png": "[encoded data removed]",
      "text/plain": [
       "<Figure size 640x480 with 1 Axes>"
      ]
     },
     "metadata": {},
     "output_type": "display_data"
    }
   ],
   "source": [
    "comp_df.plot(kind='bar')\n",
    "plt.title('União Soviética X 15 Nações da ex-União Soviética \\nno Ranking Geral de Medalhas Olímpicas', size=14)\n",
    "plt.xticks(rotation=0)\n",
    "plt.xlabel('Medalha', size=12)\n",
    "plt.ylabel('Número de Medalhas')"
   ]
  },
  {
   "cell_type": "code",
   "execution_count": null,
   "id": "ece472c5-8d4b-431f-bec9-368f2d519e72",
   "metadata": {},
   "outputs": [],
   "source": []
  }
 ],
 "metadata": {
  "kernelspec": {
   "display_name": "Python 3 (ipykernel)",
   "language": "python",
   "name": "python3"
  },
  "language_info": {
   "codemirror_mode": {
    "name": "ipython",
    "version": 3
   },
   "file_extension": ".py",
   "mimetype": "text/x-python",
   "name": "python",
   "nbconvert_exporter": "python",
   "pygments_lexer": "ipython3",
   "version": "3.11.5"
  }
 },
 "nbformat": 4,
 "nbformat_minor": 5
}
